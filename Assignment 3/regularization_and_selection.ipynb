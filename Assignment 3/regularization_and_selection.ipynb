{
 "cells": [
  {
   "cell_type": "markdown",
   "metadata": {},
   "source": [
    "## SCAD, pytorch, variable selection"
   ]
  },
  {
   "cell_type": "code",
   "execution_count": 2,
   "metadata": {},
   "outputs": [
    {
     "name": "stdout",
     "output_type": "stream",
     "text": [
      "Collecting torch\n",
      "  Downloading torch-2.4.1-cp39-cp39-win_amd64.whl (199.3 MB)\n",
      "Requirement already satisfied: sympy in c:\\users\\romer\\anaconda3\\lib\\site-packages (from torch) (1.10.1)\n",
      "Requirement already satisfied: jinja2 in c:\\users\\romer\\anaconda3\\lib\\site-packages (from torch) (2.11.3)\n",
      "Requirement already satisfied: typing-extensions>=4.8.0 in c:\\users\\romer\\anaconda3\\lib\\site-packages (from torch) (4.8.0)\n",
      "Requirement already satisfied: filelock in c:\\users\\romer\\anaconda3\\lib\\site-packages (from torch) (3.6.0)\n",
      "Requirement already satisfied: fsspec in c:\\users\\romer\\anaconda3\\lib\\site-packages (from torch) (2022.2.0)\n",
      "Requirement already satisfied: networkx in c:\\users\\romer\\anaconda3\\lib\\site-packages (from torch) (2.7.1)\n",
      "Requirement already satisfied: MarkupSafe>=0.23 in c:\\users\\romer\\anaconda3\\lib\\site-packages (from jinja2->torch) (2.0.1)\n",
      "Requirement already satisfied: mpmath>=0.19 in c:\\users\\romer\\anaconda3\\lib\\site-packages (from sympy->torch) (1.2.1)\n",
      "Installing collected packages: torch\n",
      "Successfully installed torch-2.4.1\n"
     ]
    }
   ],
   "source": [
    "!pip install torch"
   ]
  },
  {
   "cell_type": "code",
   "execution_count": 5,
   "metadata": {},
   "outputs": [],
   "source": [
    "import torch"
   ]
  },
  {
   "cell_type": "code",
   "execution_count": 7,
   "metadata": {},
   "outputs": [],
   "source": [
    "device = torch.device('cpu')\n",
    "dtype = torch.float64"
   ]
  },
  {
   "cell_type": "code",
   "execution_count": 9,
   "metadata": {},
   "outputs": [],
   "source": [
    "def scad_penalty(beta_hat, lambda_val, a_val):\n",
    "    abs_beta_hat = torch.abs(beta_hat)\n",
    "    is_linear = (abs_beta_hat <= lambda_val) # defining the flat outer bounds\n",
    "    is_quadratic = torch.logical_and(lambda_val < abs_beta_hat, abs_beta_hat <= a_val * lambda_val) # if lambda < absolute value of beta <= a * lambda\n",
    "    is_constant = (a_val * lambda_val) < abs_beta_hat # if absolute value of beta is greater than a * lambda\n",
    "    \n",
    "    linear_part = lambda_val * abs_beta_hat * is_linear\n",
    "    quadratic_part = (2* a_val * lambda_val * abs_beta_hat - beta_hat**2 - lambda_val**2) / (2*(a_val - 1)) * is_quadratic\n",
    "    constant_part = (lambda_val**2*(a_val+1)) / 2 * is_constant\n",
    "\n",
    "    return linear_part + quadratic_part + constant_part\n",
    "\n",
    "def scad_derivative(beta_hat, lambda_val, a_val):\n",
    "    return lambda_val*((beta_hat <= lambda_val) + (a_val*lambda_val-beta_hat)*((a_val*lambda_val-beta_hat) > 0)/((a_val-1)*lambda_val)*(beta_hat>lambda_val))"
   ]
  }
 ],
 "metadata": {
  "kernelspec": {
   "display_name": "base",
   "language": "python",
   "name": "python3"
  },
  "language_info": {
   "codemirror_mode": {
    "name": "ipython",
    "version": 3
   },
   "file_extension": ".py",
   "mimetype": "text/x-python",
   "name": "python",
   "nbconvert_exporter": "python",
   "pygments_lexer": "ipython3",
   "version": "3.9.12"
  }
 },
 "nbformat": 4,
 "nbformat_minor": 2
}
