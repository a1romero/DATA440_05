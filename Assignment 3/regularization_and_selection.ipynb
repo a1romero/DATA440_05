{
 "cells": [
  {
   "cell_type": "markdown",
   "metadata": {},
   "source": [
    "## SCAD, pytorch, variable selection"
   ]
  },
  {
   "cell_type": "code",
   "execution_count": 1,
   "metadata": {},
   "outputs": [
    {
     "name": "stdout",
     "output_type": "stream",
     "text": [
      "Requirement already satisfied: torch in c:\\users\\romer\\anaconda3\\lib\\site-packages (2.4.1)\n",
      "Requirement already satisfied: sympy in c:\\users\\romer\\anaconda3\\lib\\site-packages (from torch) (1.10.1)\n",
      "Requirement already satisfied: typing-extensions>=4.8.0 in c:\\users\\romer\\anaconda3\\lib\\site-packages (from torch) (4.8.0)\n",
      "Requirement already satisfied: filelock in c:\\users\\romer\\anaconda3\\lib\\site-packages (from torch) (3.6.0)\n",
      "Requirement already satisfied: networkx in c:\\users\\romer\\anaconda3\\lib\\site-packages (from torch) (2.7.1)\n",
      "Requirement already satisfied: jinja2 in c:\\users\\romer\\anaconda3\\lib\\site-packages (from torch) (2.11.3)\n",
      "Requirement already satisfied: fsspec in c:\\users\\romer\\anaconda3\\lib\\site-packages (from torch) (2022.2.0)\n",
      "Requirement already satisfied: MarkupSafe>=0.23 in c:\\users\\romer\\anaconda3\\lib\\site-packages (from jinja2->torch) (2.0.1)\n",
      "Requirement already satisfied: mpmath>=0.19 in c:\\users\\romer\\anaconda3\\lib\\site-packages (from sympy->torch) (1.2.1)\n"
     ]
    }
   ],
   "source": [
    "!pip install torch"
   ]
  },
  {
   "cell_type": "code",
   "execution_count": 2,
   "metadata": {},
   "outputs": [],
   "source": [
    "import torch\n",
    "import torch.nn as nn\n",
    "import torch.optim as optim\n",
    "from scad_linear import SCADLinear\n",
    "from scaler_torch import StandardScaler, MinMaxScaler"
   ]
  },
  {
   "cell_type": "code",
   "execution_count": 3,
   "metadata": {},
   "outputs": [],
   "source": [
    "device = torch.device('cpu')\n",
    "dtype = torch.float64"
   ]
  },
  {
   "cell_type": "markdown",
   "metadata": {},
   "source": [
    "**Part 1: SCAD class with real data**\n",
    "This section uses the <a href=\"https://archive.ics.uci.edu/dataset/165/concrete+compressive+strength\">concrete.csv dataset</a> to predict linear correlations. The model is written using pytorch."
   ]
  },
  {
   "cell_type": "code",
   "execution_count": 4,
   "metadata": {},
   "outputs": [],
   "source": [
    "import numpy as np\n",
    "import pandas as pd\n",
    "from sklearn.metrics import mean_squared_error as mse\n",
    "from sklearn.preprocessing import StandardScaler, MinMaxScaler"
   ]
  },
  {
   "cell_type": "code",
   "execution_count": 5,
   "metadata": {},
   "outputs": [],
   "source": [
    "data = pd.read_csv('../data/concrete.csv')\n",
    "\n",
    "x = data.drop(columns='strength').values\n",
    "y = data['strength'].values\n",
    "\n",
    "scaler = MinMaxScaler()\n",
    "xscaled = scaler.fit_transform(x)\n",
    "\n",
    "x_tensor = torch.tensor(xscaled, dtype= dtype)\n",
    "y_tensor = torch.tensor(y, dtype= dtype)"
   ]
  },
  {
   "cell_type": "code",
   "execution_count": 6,
   "metadata": {},
   "outputs": [],
   "source": [
    "model = SCADLinear(input_size= x_tensor.shape[1], lambda_val= 0.1, a_val= 2.5)"
   ]
  },
  {
   "cell_type": "code",
   "execution_count": 7,
   "metadata": {},
   "outputs": [
    {
     "name": "stdout",
     "output_type": "stream",
     "text": [
      "epoch: 100/1000, loss_with_scad: 147.24204059368722\n",
      "epoch: 200/1000, loss_with_scad: 123.28070099508518\n",
      "epoch: 300/1000, loss_with_scad: 115.8342783407946\n",
      "epoch: 400/1000, loss_with_scad: 112.64318359704748\n",
      "epoch: 500/1000, loss_with_scad: 110.9643283365862\n",
      "epoch: 600/1000, loss_with_scad: 109.94583698654623\n",
      "epoch: 700/1000, loss_with_scad: 109.26374004475271\n",
      "epoch: 800/1000, loss_with_scad: 108.77680593079931\n",
      "epoch: 900/1000, loss_with_scad: 108.41566513098944\n",
      "epoch: 1000/1000, loss_with_scad: 108.14197763344379\n"
     ]
    }
   ],
   "source": [
    "model.fit(x= torch.squeeze(x_tensor), y= y_tensor.unsqueeze(1), num_epochs= 1000, learning_rate= 0.09)\n",
    "prediction = model.predict(x_tensor)"
   ]
  },
  {
   "cell_type": "code",
   "execution_count": 8,
   "metadata": {},
   "outputs": [
    {
     "data": {
      "text/plain": [
       "108.13959448494"
      ]
     },
     "execution_count": 8,
     "metadata": {},
     "output_type": "execute_result"
    }
   ],
   "source": [
    "mse(y_tensor, prediction)"
   ]
  },
  {
   "cell_type": "code",
   "execution_count": 9,
   "metadata": {},
   "outputs": [
    {
     "data": {
      "text/plain": [
       "Parameter containing:\n",
       "tensor([[ 47.6537,  32.3728,  13.6233, -15.2120,  16.8919,   5.7837,   4.8289,\n",
       "          40.0994]], dtype=torch.float64, requires_grad=True)"
      ]
     },
     "execution_count": 9,
     "metadata": {},
     "output_type": "execute_result"
    }
   ],
   "source": [
    "model.get_coefficients()"
   ]
  },
  {
   "cell_type": "markdown",
   "metadata": {},
   "source": [
    "Based on the simulation design explained in class, generate 200 data sets where the input features have a strong correlation structure (you may consider a 0.9) and apply ElasticNet, SqrtLasso and SCAD to check which method produces the best approximation of an ideal solution, such as a \"betastar\" you design with a sparsity pattern of your choice."
   ]
  },
  {
   "cell_type": "code",
   "execution_count": 11,
   "metadata": {},
   "outputs": [],
   "source": [
    "import numpy as np\n",
    "from scipy.linalg import toeplitz\n",
    "import models_for_comparison"
   ]
  },
  {
   "cell_type": "code",
   "execution_count": 12,
   "metadata": {},
   "outputs": [],
   "source": [
    "def make_correlated(num_samples, p, rho):\n",
    "    vcor = []\n",
    "    for i in range(p):\n",
    "        vcor.append(rho**i)\n",
    "    r = toeplitz(vcor)\n",
    "    mu = np.repeat(0,p)\n",
    "    x = np.random.multivariate_normal(mu, r, size=num_samples)\n",
    "    return x"
   ]
  },
  {
   "cell_type": "code",
   "execution_count": 13,
   "metadata": {},
   "outputs": [],
   "source": [
    "rho = 0.9\n",
    "p = 30\n",
    "n = 200\n",
    "x = make_correlated(n, p, rho)"
   ]
  },
  {
   "cell_type": "code",
   "execution_count": 14,
   "metadata": {},
   "outputs": [],
   "source": [
    "beta =np.array([-1,2,3,0,0,0,0,2,-1,4,3,3,3,3,3,3,0])\n",
    "beta = beta.reshape(-1,1)\n",
    "betastar = np.concatenate([beta,np.repeat(0,p-len(beta)).reshape(-1,1)],axis=0)\n",
    "y = x@betastar + 1.5*np.random.normal(size=(n,1))"
   ]
  },
  {
   "cell_type": "code",
   "execution_count": 15,
   "metadata": {},
   "outputs": [],
   "source": [
    "x_tensor = torch.tensor(x, device=device)\n",
    "y_tensor = torch.tensor(y, device= device)"
   ]
  },
  {
   "cell_type": "code",
   "execution_count": 16,
   "metadata": {},
   "outputs": [
    {
     "data": {
      "text/plain": [
       "tensor([[-7.1976e-01, -1.7404e+00, -1.8205e+00,  ..., -1.0479e+00,\n",
       "         -9.7710e-01, -3.1249e-01],\n",
       "        [ 1.1701e+00,  1.5021e+00,  7.7970e-01,  ...,  2.7051e+00,\n",
       "          2.4982e+00,  1.8455e+00],\n",
       "        [ 5.1497e-01,  5.6799e-01,  6.9492e-01,  ...,  1.4443e+00,\n",
       "          1.1649e+00,  1.2818e+00],\n",
       "        ...,\n",
       "        [-4.6900e-01, -9.3511e-01, -4.6202e-01,  ...,  1.1954e+00,\n",
       "          8.1938e-01,  7.8942e-02],\n",
       "        [ 1.0626e+00,  3.0947e-01,  3.4042e-01,  ..., -4.2222e-01,\n",
       "         -1.4043e-01,  1.7426e-01],\n",
       "        [ 6.8952e-01, -1.1428e-01, -3.1684e-01,  ..., -4.9555e-02,\n",
       "          1.0311e-03, -5.7636e-01]], dtype=torch.float64)"
      ]
     },
     "execution_count": 16,
     "metadata": {},
     "output_type": "execute_result"
    }
   ],
   "source": [
    "x_tensor"
   ]
  },
  {
   "cell_type": "code",
   "execution_count": 17,
   "metadata": {},
   "outputs": [
    {
     "ename": "NameError",
     "evalue": "name 'device' is not defined",
     "output_type": "error",
     "traceback": [
      "\u001b[1;31m---------------------------------------------------------------------------\u001b[0m",
      "\u001b[1;31mNameError\u001b[0m                                 Traceback (most recent call last)",
      "Input \u001b[1;32mIn [17]\u001b[0m, in \u001b[0;36m<cell line: 2>\u001b[1;34m()\u001b[0m\n\u001b[0;32m      1\u001b[0m scad \u001b[38;5;241m=\u001b[39m SCADLinear(x_tensor\u001b[38;5;241m.\u001b[39mshape[\u001b[38;5;241m1\u001b[39m], \u001b[38;5;241m0.5\u001b[39m, \u001b[38;5;241m3\u001b[39m)\n\u001b[1;32m----> 2\u001b[0m elastic \u001b[38;5;241m=\u001b[39m \u001b[43mmodels_for_comparison\u001b[49m\u001b[38;5;241;43m.\u001b[39;49m\u001b[43mElasticNet\u001b[49m\u001b[43m(\u001b[49m\u001b[43minput_size\u001b[49m\u001b[38;5;241;43m=\u001b[39;49m\u001b[43mx_tensor\u001b[49m\u001b[38;5;241;43m.\u001b[39;49m\u001b[43mshape\u001b[49m\u001b[43m[\u001b[49m\u001b[38;5;241;43m1\u001b[39;49m\u001b[43m]\u001b[49m\u001b[43m,\u001b[49m\u001b[43m \u001b[49m\u001b[43malpha\u001b[49m\u001b[38;5;241;43m=\u001b[39;49m\u001b[38;5;241;43m0.1\u001b[39;49m\u001b[43m,\u001b[49m\u001b[43m \u001b[49m\u001b[43ml1_ratio\u001b[49m\u001b[38;5;241;43m=\u001b[39;49m\u001b[38;5;241;43m0.6\u001b[39;49m\u001b[43m)\u001b[49m\n",
      "File \u001b[1;32mc:\\Users\\romer\\GitHub\\DATA440_05\\Assignment 3\\models_for_comparison.py:23\u001b[0m, in \u001b[0;36mElasticNet.__init__\u001b[1;34m(self, input_size, alpha, l1_ratio)\u001b[0m\n\u001b[0;32m     20\u001b[0m \u001b[38;5;28mself\u001b[39m\u001b[38;5;241m.\u001b[39ml1_ratio \u001b[38;5;241m=\u001b[39m l1_ratio\n\u001b[0;32m     22\u001b[0m \u001b[38;5;66;03m# Define the linear regression layer\u001b[39;00m\n\u001b[1;32m---> 23\u001b[0m \u001b[38;5;28mself\u001b[39m\u001b[38;5;241m.\u001b[39mlinear \u001b[38;5;241m=\u001b[39m nn\u001b[38;5;241m.\u001b[39mLinear(input_size, \u001b[38;5;241m1\u001b[39m,bias\u001b[38;5;241m=\u001b[39m\u001b[38;5;28;01mFalse\u001b[39;00m,device\u001b[38;5;241m=\u001b[39m\u001b[43mdevice\u001b[49m,dtype\u001b[38;5;241m=\u001b[39mdtype)\n",
      "\u001b[1;31mNameError\u001b[0m: name 'device' is not defined"
     ]
    }
   ],
   "source": [
    "scad = SCADLinear(x_tensor.shape[1], 0.5, 3)\n",
    "elastic = models_for_comparison.ElasticNet(input_size=x_tensor.shape[1], alpha=0.1, l1_ratio=0.6)"
   ]
  },
  {
   "cell_type": "code",
   "execution_count": 35,
   "metadata": {},
   "outputs": [
    {
     "name": "stdout",
     "output_type": "stream",
     "text": [
      "epoch: 100/1000, loss_with_scad: 4.101080490200097\n",
      "epoch: 200/1000, loss_with_scad: 3.0752120934690548\n",
      "epoch: 300/1000, loss_with_scad: 2.736670963731683\n",
      "epoch: 400/1000, loss_with_scad: 2.5357154640344546\n",
      "epoch: 500/1000, loss_with_scad: 2.403333998776603\n",
      "epoch: 600/1000, loss_with_scad: 2.3116572269358553\n",
      "epoch: 700/1000, loss_with_scad: 2.246082463200986\n",
      "epoch: 800/1000, loss_with_scad: 2.198034026937726\n",
      "epoch: 900/1000, loss_with_scad: 2.1621371534173233\n",
      "epoch: 1000/1000, loss_with_scad: 2.1348740927353442\n"
     ]
    }
   ],
   "source": [
    "model.fit(x_tensor, y_tensor, num_epochs=1000, learning_rate=0.01)"
   ]
  },
  {
   "cell_type": "code",
   "execution_count": 36,
   "metadata": {},
   "outputs": [
    {
     "data": {
      "text/plain": [
       "2.134636308064832"
      ]
     },
     "execution_count": 36,
     "metadata": {},
     "output_type": "execute_result"
    }
   ],
   "source": [
    "mse(model.predict(x_tensor).detach().numpy(), y_tensor.detach().numpy())"
   ]
  },
  {
   "cell_type": "markdown",
   "metadata": {},
   "source": [
    "Use the methods you implemented above to determine a variable selection for the Concrete data set with quadratic interaction terms (polynomial features of degree 2). To solve this, you should consider choosing the best weight for the penalty function. What is the ideal model size (number of variables with non-zero weights), and what is the cross-validated mean square error?"
   ]
  }
 ],
 "metadata": {
  "kernelspec": {
   "display_name": "base",
   "language": "python",
   "name": "python3"
  },
  "language_info": {
   "codemirror_mode": {
    "name": "ipython",
    "version": 3
   },
   "file_extension": ".py",
   "mimetype": "text/x-python",
   "name": "python",
   "nbconvert_exporter": "python",
   "pygments_lexer": "ipython3",
   "version": "3.9.12"
  }
 },
 "nbformat": 4,
 "nbformat_minor": 2
}
