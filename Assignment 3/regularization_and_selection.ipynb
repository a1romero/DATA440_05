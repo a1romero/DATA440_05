{
 "cells": [
  {
   "cell_type": "markdown",
   "metadata": {},
   "source": [
    "## SCAD, pytorch, variable selection"
   ]
  },
  {
   "cell_type": "code",
   "execution_count": 39,
   "metadata": {},
   "outputs": [
    {
     "name": "stdout",
     "output_type": "stream",
     "text": [
      "Requirement already satisfied: torch in c:\\users\\romer\\anaconda3\\lib\\site-packages (2.4.1)\n",
      "Requirement already satisfied: sympy in c:\\users\\romer\\anaconda3\\lib\\site-packages (from torch) (1.10.1)\n",
      "Requirement already satisfied: networkx in c:\\users\\romer\\anaconda3\\lib\\site-packages (from torch) (2.7.1)\n",
      "Requirement already satisfied: jinja2 in c:\\users\\romer\\anaconda3\\lib\\site-packages (from torch) (2.11.3)\n",
      "Requirement already satisfied: fsspec in c:\\users\\romer\\anaconda3\\lib\\site-packages (from torch) (2022.2.0)\n",
      "Requirement already satisfied: typing-extensions>=4.8.0 in c:\\users\\romer\\anaconda3\\lib\\site-packages (from torch) (4.8.0)\n",
      "Requirement already satisfied: filelock in c:\\users\\romer\\anaconda3\\lib\\site-packages (from torch) (3.6.0)\n",
      "Requirement already satisfied: MarkupSafe>=0.23 in c:\\users\\romer\\anaconda3\\lib\\site-packages (from jinja2->torch) (2.0.1)\n",
      "Requirement already satisfied: mpmath>=0.19 in c:\\users\\romer\\anaconda3\\lib\\site-packages (from sympy->torch) (1.2.1)\n"
     ]
    }
   ],
   "source": [
    "!pip install torch"
   ]
  },
  {
   "cell_type": "code",
   "execution_count": 40,
   "metadata": {},
   "outputs": [],
   "source": [
    "import torch\n",
    "import torch.nn as nn\n",
    "import torch.optim as optim\n",
    "import scad_linear\n",
    "from scaler_torch import StandardScaler, MinMaxScaler"
   ]
  },
  {
   "cell_type": "code",
   "execution_count": 41,
   "metadata": {},
   "outputs": [],
   "source": [
    "device = torch.device('cpu')\n",
    "dtype = torch.float64"
   ]
  },
  {
   "cell_type": "markdown",
   "metadata": {},
   "source": [
    "## Part 1: SCAD class with real data\n",
    "This section uses the <a href=\"https://archive.ics.uci.edu/dataset/165/concrete+compressive+strength\">concrete.csv dataset</a> to predict linear correlations. The model is written using pytorch."
   ]
  },
  {
   "cell_type": "code",
   "execution_count": 42,
   "metadata": {},
   "outputs": [],
   "source": [
    "import numpy as np\n",
    "import pandas as pd\n",
    "from sklearn.metrics import mean_squared_error as mse\n",
    "from sklearn.preprocessing import StandardScaler, MinMaxScaler"
   ]
  },
  {
   "cell_type": "code",
   "execution_count": 43,
   "metadata": {},
   "outputs": [],
   "source": [
    "data = pd.read_csv('../data/concrete.csv')\n",
    "\n",
    "x = data.drop(columns='strength').values\n",
    "y = data['strength'].values\n",
    "\n",
    "scaler = MinMaxScaler()\n",
    "xscaled = scaler.fit_transform(x)\n",
    "\n",
    "x_tensor = torch.tensor(xscaled, dtype= dtype)\n",
    "y_tensor = torch.tensor(y, dtype= dtype)"
   ]
  },
  {
   "cell_type": "code",
   "execution_count": 44,
   "metadata": {},
   "outputs": [],
   "source": [
    "model = scad_linear.SCADLinear(input_size= x_tensor.shape[1], lambda_val= 0.1, a_val= 2.5)"
   ]
  },
  {
   "cell_type": "code",
   "execution_count": 45,
   "metadata": {},
   "outputs": [
    {
     "name": "stdout",
     "output_type": "stream",
     "text": [
      "epoch: 100/1000, loss_with_scad: 147.17397513908486\n",
      "epoch: 200/1000, loss_with_scad: 123.34516294289296\n",
      "epoch: 300/1000, loss_with_scad: 115.89521999468293\n",
      "epoch: 400/1000, loss_with_scad: 112.6888661171084\n",
      "epoch: 500/1000, loss_with_scad: 110.99800295482748\n",
      "epoch: 600/1000, loss_with_scad: 109.97103619670443\n",
      "epoch: 700/1000, loss_with_scad: 109.2828818051641\n",
      "epoch: 800/1000, loss_with_scad: 108.79149226671818\n",
      "epoch: 900/1000, loss_with_scad: 108.4269991665843\n",
      "epoch: 1000/1000, loss_with_scad: 108.15075291036258\n"
     ]
    }
   ],
   "source": [
    "model.fit(x= torch.squeeze(x_tensor), y= y_tensor.unsqueeze(1), num_epochs= 1000, learning_rate= 0.09)\n",
    "prediction = model.predict(x_tensor)"
   ]
  },
  {
   "cell_type": "code",
   "execution_count": 46,
   "metadata": {},
   "outputs": [
    {
     "data": {
      "text/plain": [
       "108.14834742981772"
      ]
     },
     "execution_count": 46,
     "metadata": {},
     "output_type": "execute_result"
    }
   ],
   "source": [
    "mse(y_tensor, prediction)"
   ]
  },
  {
   "cell_type": "code",
   "execution_count": 47,
   "metadata": {},
   "outputs": [
    {
     "data": {
      "text/plain": [
       "Parameter containing:\n",
       "tensor([[ 47.6363,  32.3547,  13.6079, -15.1883,  16.9288,   5.7865,   4.8199,\n",
       "          40.0931]], dtype=torch.float64, requires_grad=True)"
      ]
     },
     "execution_count": 47,
     "metadata": {},
     "output_type": "execute_result"
    }
   ],
   "source": [
    "model.get_coefficients()"
   ]
  },
  {
   "cell_type": "markdown",
   "metadata": {},
   "source": [
    "## Part 2: Strong Correlation Structure\n",
    "Based on the simulation design explained in class, generate 200 data sets where the input features have a strong correlation structure (you may consider a 0.9) and apply ElasticNet, SqrtLasso and SCAD to check which method produces the best approximation of an ideal solution, such as a \"betastar\" you design with a sparsity pattern of your choice."
   ]
  },
  {
   "cell_type": "code",
   "execution_count": 48,
   "metadata": {},
   "outputs": [],
   "source": [
    "import numpy as np\n",
    "from scipy.linalg import toeplitz\n",
    "import models_for_comparison\n",
    "import matplotlib.pyplot as plt"
   ]
  },
  {
   "cell_type": "code",
   "execution_count": 49,
   "metadata": {},
   "outputs": [],
   "source": [
    "def make_correlated(num_samples, p, rho):\n",
    "    vcor = []\n",
    "    for i in range(p):\n",
    "        vcor.append(rho**i)\n",
    "    r = toeplitz(vcor)\n",
    "    mu = np.repeat(0,p)\n",
    "    x = np.random.multivariate_normal(mu, r, size=num_samples)\n",
    "    return x"
   ]
  },
  {
   "cell_type": "code",
   "execution_count": 50,
   "metadata": {},
   "outputs": [],
   "source": [
    "rho = 0.9\n",
    "p = 6\n",
    "n = 200\n",
    "x = make_correlated(n, p, rho)\n",
    "beta =np.array([-1,2,3,3,1,1])\n",
    "beta = beta.reshape(-1,1)\n",
    "betastar = np.concatenate([beta,np.repeat(0,p-len(beta)).reshape(-1,1)],axis=0)\n",
    "y = x@betastar + 1.5*np.random.normal(size=(n,1))\n",
    "\n",
    "x_tensor = torch.tensor(x, device=device)\n",
    "y_tensor = torch.tensor(y, device= device)"
   ]
  },
  {
   "cell_type": "code",
   "execution_count": 51,
   "metadata": {},
   "outputs": [],
   "source": [
    "scad = scad_linear.SCADLinear(x_tensor.shape[1], 0.5, 3)\n",
    "elastic = models_for_comparison.ElasticNet(input_size=x_tensor.shape[1], alpha=0.1, l1_ratio=0.6)\n",
    "sqrt = models_for_comparison.SqrtLasso(input_size= x_tensor.shape[1], alpha=0.1)"
   ]
  },
  {
   "cell_type": "code",
   "execution_count": 52,
   "metadata": {},
   "outputs": [
    {
     "name": "stdout",
     "output_type": "stream",
     "text": [
      "epoch: 100/1000, loss_with_scad: 3.4620186564703244\n",
      "epoch: 200/1000, loss_with_scad: 2.860202880509245\n",
      "epoch: 300/1000, loss_with_scad: 2.607241782637034\n",
      "epoch: 400/1000, loss_with_scad: 2.4947756518458792\n",
      "epoch: 500/1000, loss_with_scad: 2.4409783865286943\n",
      "epoch: 600/1000, loss_with_scad: 2.4130153281014746\n",
      "epoch: 700/1000, loss_with_scad: 2.3972538685947438\n",
      "epoch: 800/1000, loss_with_scad: 2.387741589573737\n",
      "epoch: 900/1000, loss_with_scad: 2.3816983865705184\n",
      "epoch: 1000/1000, loss_with_scad: 2.3777188183012647\n",
      "Epoch [100/1000], Loss: 2.871156750672027\n",
      "Epoch [200/1000], Loss: 2.614525981713017\n",
      "Epoch [300/1000], Loss: 2.4659390909833006\n",
      "Epoch [400/1000], Loss: 2.378916814618398\n",
      "Epoch [500/1000], Loss: 2.3477898922256593\n",
      "Epoch [600/1000], Loss: 2.3321884293935926\n",
      "Epoch [700/1000], Loss: 2.3228511287086056\n",
      "Epoch [800/1000], Loss: 2.3171099442112837\n",
      "Epoch [900/1000], Loss: 2.3134866461404187\n",
      "Epoch [1000/1000], Loss: 2.311137520038411\n",
      "Epoch [100/1000], Loss: 5.6949516454843705\n",
      "Epoch [200/1000], Loss: 3.169582214898933\n",
      "Epoch [300/1000], Loss: 2.9702235671745423\n",
      "Epoch [400/1000], Loss: 2.8025096524954436\n",
      "Epoch [500/1000], Loss: 2.670162668831045\n",
      "Epoch [600/1000], Loss: 2.6194917951190635\n",
      "Epoch [700/1000], Loss: 2.5991924073960666\n",
      "Epoch [800/1000], Loss: 2.5862682121544593\n",
      "Epoch [900/1000], Loss: 2.577170823586556\n",
      "Epoch [1000/1000], Loss: 2.5707093258185836\n"
     ]
    }
   ],
   "source": [
    "scad.fit(x_tensor, y_tensor, num_epochs=1000, learning_rate=0.01)\n",
    "elastic.fit(x_tensor, y_tensor, num_epochs=1000, learning_rate=0.01)\n",
    "sqrt.fit(x_tensor, y_tensor, num_epochs=1000, learning_rate= 0.01)"
   ]
  },
  {
   "cell_type": "code",
   "execution_count": 53,
   "metadata": {},
   "outputs": [
    {
     "name": "stdout",
     "output_type": "stream",
     "text": [
      "model: SCADLinear(\n",
      "  (linear): Linear(in_features=6, out_features=1, bias=False)\n",
      ")\n",
      "score: 2.377686506413536\n",
      "model: ElasticNet(\n",
      "  (linear): Linear(in_features=6, out_features=1, bias=False)\n",
      ")\n",
      "score: 2.6438647065478484\n",
      "model: SqrtLasso(\n",
      "  (linear): Linear(in_features=6, out_features=1, bias=False)\n",
      ")\n",
      "score: 2.721645153871475\n"
     ]
    }
   ],
   "source": [
    "coefficients = {'Original coefficients': betastar.flatten(),\n",
    "                'SCADLinear': scad.get_coefficients().detach().numpy().flatten(),\n",
    "                'SqrtLasso': sqrt.get_coefficients().detach().numpy().flatten(),\n",
    "                'ElasticNet': elastic.get_coefficients().detach().numpy().flatten()}\n",
    "coef = pd.DataFrame(coefficients)\n",
    "pd.set_option('display.float_format', '{:,.4f}'.format)\n",
    "\n",
    "for model in [scad, elastic, sqrt]:\n",
    "    score = mse(y_tensor.detach().numpy(), model.predict(x_tensor).detach().numpy())\n",
    "    print(f'model: {model}\\nscore: {score}')"
   ]
  },
  {
   "cell_type": "code",
   "execution_count": 54,
   "metadata": {},
   "outputs": [
    {
     "name": "stderr",
     "output_type": "stream",
     "text": [
      "C:\\Users\\romer\\AppData\\Local\\Temp\\ipykernel_19072\\3403489170.py:3: UserWarning: The handle <BarContainer object of 6 artists> has a label of '_Original coefficients' which cannot be automatically added to the legend.\n",
      "  plt.legend(['_Original coefficients', 'SCADLinear', 'SqrtLasso', 'ElasticNet'])\n"
     ]
    },
    {
     "data": {
      "text/plain": [
       "<matplotlib.legend.Legend at 0x2644979ba60>"
      ]
     },
     "execution_count": 54,
     "metadata": {},
     "output_type": "execute_result"
    },
    {
     "data": {
      "image/png": "[encoded data removed]",
      "text/plain": [
       "<Figure size 432x288 with 1 Axes>"
      ]
     },
     "metadata": {
      "needs_background": "light"
     },
     "output_type": "display_data"
    }
   ],
   "source": [
    "absolute_difference = coef.sub(coef['Original coefficients'], axis=0).abs()\n",
    "absolute_difference.plot(kind='bar', colormap='winter')\n",
    "plt.legend(['_Original coefficients', 'SCADLinear', 'SqrtLasso', 'ElasticNet'])"
   ]
  },
  {
   "cell_type": "markdown",
   "metadata": {},
   "source": [
    "## Part 3: Concrete Dataset\n",
    "Use the methods you implemented above to determine a variable selection for the Concrete data set with quadratic interaction terms (polynomial features of degree 2). To solve this, you should consider choosing the best weight for the penalty function. What is the ideal model size (number of variables with non-zero weights), and what is the cross-validated mean square error?"
   ]
  },
  {
   "cell_type": "code",
   "execution_count": 55,
   "metadata": {},
   "outputs": [],
   "source": [
    "from sklearn.preprocessing import PolynomialFeatures"
   ]
  },
  {
   "cell_type": "code",
   "execution_count": 56,
   "metadata": {},
   "outputs": [],
   "source": [
    "data = pd.read_csv('../data/concrete.csv')\n",
    "\n",
    "x = data.drop(columns='strength').values\n",
    "y = data['strength'].values\n",
    "\n",
    "polynomial = PolynomialFeatures(degree=2, include_bias=False)\n",
    "x_polynomial = polynomial.fit_transform(x)\n",
    "scaler = MinMaxScaler()\n",
    "xscaled = scaler.fit_transform(x_polynomial)\n",
    "\n",
    "x_tensor = torch.tensor(xscaled, dtype= dtype)\n",
    "y_tensor = torch.tensor(y, dtype= dtype)"
   ]
  },
  {
   "cell_type": "code",
   "execution_count": 58,
   "metadata": {},
   "outputs": [],
   "source": [
    "model = scad_linear.SCADLinear(input_size=x_tensor.shape[1], lambda_val= 0.1, a_val= 3)"
   ]
  },
  {
   "cell_type": "code",
   "execution_count": 62,
   "metadata": {},
   "outputs": [
    {
     "name": "stdout",
     "output_type": "stream",
     "text": [
      "epoch: 100/1000, loss_with_scad: 99.77343893017353\n",
      "epoch: 200/1000, loss_with_scad: 88.97741089791268\n",
      "epoch: 300/1000, loss_with_scad: 83.5771587373276\n",
      "epoch: 400/1000, loss_with_scad: 80.24529724147183\n",
      "epoch: 500/1000, loss_with_scad: 77.89828988385767\n",
      "epoch: 600/1000, loss_with_scad: 76.08903290094109\n",
      "epoch: 700/1000, loss_with_scad: 74.6096178346613\n",
      "epoch: 800/1000, loss_with_scad: 73.35312443718502\n",
      "epoch: 900/1000, loss_with_scad: 72.25953402641053\n",
      "epoch: 1000/1000, loss_with_scad: 71.29235870610395\n"
     ]
    }
   ],
   "source": [
    "model.fit(x_tensor, y_tensor.unsqueeze(1), num_epochs = 1000, learning_rate = 0.09)"
   ]
  }
 ],
 "metadata": {
  "kernelspec": {
   "display_name": "base",
   "language": "python",
   "name": "python3"
  },
  "language_info": {
   "codemirror_mode": {
    "name": "ipython",
    "version": 3
   },
   "file_extension": ".py",
   "mimetype": "text/x-python",
   "name": "python",
   "nbconvert_exporter": "python",
   "pygments_lexer": "ipython3",
   "version": "3.9.12"
  }
 },
 "nbformat": 4,
 "nbformat_minor": 2
}
