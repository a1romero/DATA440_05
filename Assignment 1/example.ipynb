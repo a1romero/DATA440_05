{
 "cells": [
  {
   "cell_type": "markdown",
   "metadata": {},
   "source": [
    "## Predicting Values using Lowess\n",
    "Need a locally weighted prediction? Look no further! This notebook uses some basic data as an example."
   ]
  },
  {
   "cell_type": "code",
   "execution_count": 1,
   "metadata": {},
   "outputs": [],
   "source": [
    "import lowess\n",
    "\n",
    "import pandas as pd\n",
    "import numpy as np\n",
    "from sklearn.model_selection import KFold\n",
    "from sklearn.preprocessing import MinMaxScaler\n",
    "from sklearn.metrics import mean_squared_error as mse"
   ]
  },
  {
   "cell_type": "markdown",
   "metadata": {},
   "source": [
    "You can find the code for this notebook (and the .py file) [here](https://github.com/a1romero/DATA440_05/tree/main/Assignment%201)"
   ]
  },
  {
   "cell_type": "code",
   "execution_count": 2,
   "metadata": {},
   "outputs": [],
   "source": [
    "scaler = MinMaxScaler()\n",
    "model = lowess.LowessWithcdist()\n",
    "kf = KFold(n_splits= 10, shuffle= True)\n",
    "scoring = mse\n",
    "\n",
    "def custom_kf_validate(x, y, model, kf, scoring, scaler):\n",
    "    # simple k-fold validation function\n",
    "    scores = []\n",
    "    for train_index, test_index in kf.split(x):\n",
    "        x_train, x_test = x[train_index], x[test_index]\n",
    "        y_train, y_test = y[train_index], y[test_index]\n",
    "\n",
    "        x_train_scale = scaler.fit_transform(x_train)\n",
    "        x_test_scale = scaler.fit_transform(x_test)\n",
    "\n",
    "        model.fit(x_train_scale, y_train)\n",
    "        y_predicted = model.predict(x_test_scale)\n",
    "\n",
    "        scores.append(scoring(y_test, y_predicted))\n",
    "    scores = np.array(scores)\n",
    "\n",
    "    return scores.mean()"
   ]
  },
  {
   "cell_type": "markdown",
   "metadata": {},
   "source": [
    "## Predicting customer loyalty\n",
    "Dataset from https://www.kaggle.com/datasets/hanaksoy/customer-purchasing-behaviors?resource=download"
   ]
  },
  {
   "cell_type": "code",
   "execution_count": 3,
   "metadata": {},
   "outputs": [],
   "source": [
    "data = pd.read_csv('customer_purchasing_behavior.csv')\n",
    "\n",
    "x = data.drop(columns=['loyalty_score', 'user_id', 'region']).values\n",
    "y = data['loyalty_score']"
   ]
  },
  {
   "cell_type": "code",
   "execution_count": 4,
   "metadata": {},
   "outputs": [
    {
     "data": {
      "text/plain": [
       "35.55819586630766"
      ]
     },
     "execution_count": 4,
     "metadata": {},
     "output_type": "execute_result"
    }
   ],
   "source": [
    "custom_kf_validate(x, y, model, kf, scoring, scaler)"
   ]
  },
  {
   "cell_type": "markdown",
   "metadata": {},
   "source": [
    "## Predicting car MPG"
   ]
  },
  {
   "cell_type": "code",
   "execution_count": 5,
   "metadata": {},
   "outputs": [],
   "source": [
    "data = pd.read_csv('cars.csv')\n",
    "\n",
    "x = data.drop(columns=['MPG']).values\n",
    "y = data['MPG'].values"
   ]
  },
  {
   "cell_type": "code",
   "execution_count": 6,
   "metadata": {},
   "outputs": [
    {
     "data": {
      "text/plain": [
       "451.4162245485022"
      ]
     },
     "execution_count": 6,
     "metadata": {},
     "output_type": "execute_result"
    }
   ],
   "source": [
    "custom_kf_validate(x, y, model, kf, scoring, scaler)"
   ]
  }
 ],
 "metadata": {
  "kernelspec": {
   "display_name": "base",
   "language": "python",
   "name": "python3"
  },
  "language_info": {
   "codemirror_mode": {
    "name": "ipython",
    "version": 3
   },
   "file_extension": ".py",
   "mimetype": "text/x-python",
   "name": "python",
   "nbconvert_exporter": "python",
   "pygments_lexer": "ipython3",
   "version": "3.9.12"
  }
 },
 "nbformat": 4,
 "nbformat_minor": 2
}
