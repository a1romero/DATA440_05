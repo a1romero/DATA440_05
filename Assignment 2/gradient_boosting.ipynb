{
 "cells": [
  {
   "cell_type": "code",
   "execution_count": null,
   "metadata": {},
   "outputs": [],
   "source": [
    "!pip install xgboost"
   ]
  },
  {
   "cell_type": "code",
   "execution_count": 1,
   "metadata": {},
   "outputs": [],
   "source": [
    "import lowess\n",
    "import g_boost\n",
    "import numpy as np\n",
    "import pandas as pd\n",
    "import xgboost\n",
    "\n",
    "from sklearn.model_selection import KFold\n",
    "from sklearn.metrics import mean_squared_error as mse\n",
    "from sklearn.preprocessing import MinMaxScaler, StandardScaler, QuantileTransformer"
   ]
  },
  {
   "cell_type": "code",
   "execution_count": 2,
   "metadata": {},
   "outputs": [],
   "source": [
    "import secret_toolkit as toolkit"
   ]
  },
  {
   "cell_type": "code",
   "execution_count": 4,
   "metadata": {},
   "outputs": [],
   "source": [
    "model1 = lowess.LowessWithcdist()\n",
    "modelr = lowess.LowessWithcdist()"
   ]
  },
  {
   "cell_type": "code",
   "execution_count": 5,
   "metadata": {},
   "outputs": [],
   "source": [
    "data = pd.read_csv('../data/concrete.csv')\n",
    "\n",
    "x = data.drop(columns='strength').values\n",
    "y = data['strength'].values\n",
    "\n",
    "kf = KFold(n_splits = 3, shuffle=True)\n",
    "scoring = mse\n",
    "scaler = StandardScaler()"
   ]
  },
  {
   "cell_type": "code",
   "execution_count": 6,
   "metadata": {},
   "outputs": [],
   "source": [
    "gradient = g_boost.GradientBooster(model = model1, rmodel = modelr, boosting_steps = 7)"
   ]
  },
  {
   "cell_type": "code",
   "execution_count": 10,
   "metadata": {},
   "outputs": [
    {
     "name": "stdout",
     "output_type": "stream",
     "text": [
      "fitting...\n",
      "fit model\n",
      "fitting step 0\n"
     ]
    },
    {
     "ename": "KeyboardInterrupt",
     "evalue": "",
     "output_type": "error",
     "traceback": [
      "\u001b[1;31m---------------------------------------------------------------------------\u001b[0m",
      "\u001b[1;31mKeyboardInterrupt\u001b[0m                         Traceback (most recent call last)",
      "Input \u001b[1;32mIn [10]\u001b[0m, in \u001b[0;36m<cell line: 1>\u001b[1;34m()\u001b[0m\n\u001b[1;32m----> 1\u001b[0m \u001b[43mgradient\u001b[49m\u001b[38;5;241;43m.\u001b[39;49m\u001b[43mfit\u001b[49m\u001b[43m(\u001b[49m\u001b[43mx\u001b[49m\u001b[43m,\u001b[49m\u001b[43my\u001b[49m\u001b[43m)\u001b[49m\n\u001b[0;32m      2\u001b[0m predict \u001b[38;5;241m=\u001b[39m gradient\u001b[38;5;241m.\u001b[39mpredict(x)\n",
      "File \u001b[1;32mc:\\Users\\romer\\GitHub\\DATA440_05\\Assignment 2\\g_boost.py:28\u001b[0m, in \u001b[0;36mGradientBooster.fit\u001b[1;34m(self, xtrain, ytrain)\u001b[0m\n\u001b[0;32m     26\u001b[0m \u001b[38;5;28;01mfor\u001b[39;00m i \u001b[38;5;129;01min\u001b[39;00m \u001b[38;5;28mrange\u001b[39m(\u001b[38;5;28mself\u001b[39m\u001b[38;5;241m.\u001b[39msteps):\n\u001b[0;32m     27\u001b[0m     \u001b[38;5;28mprint\u001b[39m(\u001b[38;5;124m'\u001b[39m\u001b[38;5;124mfitting step\u001b[39m\u001b[38;5;124m'\u001b[39m, i)\n\u001b[1;32m---> 28\u001b[0m     residuals \u001b[38;5;241m=\u001b[39m \u001b[38;5;28mself\u001b[39m\u001b[38;5;241m.\u001b[39mytrain \u001b[38;5;241m-\u001b[39m y_train_pred\n\u001b[0;32m     29\u001b[0m     \u001b[38;5;28mself\u001b[39m\u001b[38;5;241m.\u001b[39mrmodel\u001b[38;5;241m.\u001b[39mfit(xtrain, residuals)\n\u001b[0;32m     30\u001b[0m     y_train_pred \u001b[38;5;241m+\u001b[39m\u001b[38;5;241m=\u001b[39m \u001b[38;5;28mself\u001b[39m\u001b[38;5;241m.\u001b[39mrmodel\u001b[38;5;241m.\u001b[39mpredict(\u001b[38;5;28mself\u001b[39m\u001b[38;5;241m.\u001b[39mxtrain)\n",
      "File \u001b[1;32mc:\\Users\\romer\\GitHub\\DATA440_05\\Assignment 2\\lowess.py:51\u001b[0m, in \u001b[0;36mLowessWithcdist.predict\u001b[1;34m(self, xtest, lm)\u001b[0m\n\u001b[0;32m     48\u001b[0m ypred \u001b[38;5;241m=\u001b[39m []\n\u001b[0;32m     49\u001b[0m \u001b[38;5;28;01mfor\u001b[39;00m i \u001b[38;5;129;01min\u001b[39;00m \u001b[38;5;28mrange\u001b[39m(\u001b[38;5;28mlen\u001b[39m(xtest)):\n\u001b[0;32m     50\u001b[0m     \u001b[38;5;66;03m# for each value in xtest, fit the model to the ith column of weights @ xtrain, and the same @ ytrain\u001b[39;00m\n\u001b[1;32m---> 51\u001b[0m     lm\u001b[38;5;241m.\u001b[39mfit(np\u001b[38;5;241m.\u001b[39mdiag(weights[:,i])\u001b[38;5;129m@self\u001b[39m\u001b[38;5;241m.\u001b[39mxtrain,\u001b[43mnp\u001b[49m\u001b[38;5;241;43m.\u001b[39;49m\u001b[43mdiag\u001b[49m\u001b[43m(\u001b[49m\u001b[43mweights\u001b[49m\u001b[43m[\u001b[49m\u001b[43m:\u001b[49m\u001b[43m,\u001b[49m\u001b[43mi\u001b[49m\u001b[43m]\u001b[49m\u001b[43m)\u001b[49m\u001b[38;5;129;43m@self\u001b[39;49m\u001b[38;5;241;43m.\u001b[39;49m\u001b[43mytrain\u001b[49m)\n\u001b[0;32m     52\u001b[0m     ypred\u001b[38;5;241m.\u001b[39mappend(lm\u001b[38;5;241m.\u001b[39mpredict(xtest[i]\u001b[38;5;241m.\u001b[39mreshape(\u001b[38;5;241m1\u001b[39m,\u001b[38;5;241m-\u001b[39m\u001b[38;5;241m1\u001b[39m)))\n\u001b[0;32m     53\u001b[0m \u001b[38;5;28;01mreturn\u001b[39;00m np\u001b[38;5;241m.\u001b[39marray(ypred)\n",
      "\u001b[1;31mKeyboardInterrupt\u001b[0m: "
     ]
    }
   ],
   "source": [
    "gradient.fit(x,y)\n",
    "predict = gradient.predict(x)"
   ]
  },
  {
   "cell_type": "code",
   "execution_count": null,
   "metadata": {},
   "outputs": [],
   "source": [
    "toolkit.kf_validate(x, y, gradient, kf, scoring, scaler)"
   ]
  },
  {
   "cell_type": "code",
   "execution_count": null,
   "metadata": {},
   "outputs": [],
   "source": [
    "model_xgb = xgboost.XGBRegressor()\n",
    "toolkit.kf_validate(x, y, model_xgb, kf, scoring, scaler)"
   ]
  }
 ],
 "metadata": {
  "kernelspec": {
   "display_name": "base",
   "language": "python",
   "name": "python3"
  },
  "language_info": {
   "codemirror_mode": {
    "name": "ipython",
    "version": 3
   },
   "file_extension": ".py",
   "mimetype": "text/x-python",
   "name": "python",
   "nbconvert_exporter": "python",
   "pygments_lexer": "ipython3",
   "version": "3.9.12"
  }
 },
 "nbformat": 4,
 "nbformat_minor": 2
}
